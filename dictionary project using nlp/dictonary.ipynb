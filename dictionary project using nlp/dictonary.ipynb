{
 "cells": [
  {
   "cell_type": "code",
   "execution_count": 2,
   "metadata": {},
   "outputs": [],
   "source": [
    "import json\n",
    "data = json.load(open('Dictionary_data.json'))"
   ]
  },
  {
   "cell_type": "code",
   "execution_count": 3,
   "metadata": {},
   "outputs": [],
   "source": [
    "from difflib import get_close_matches\n",
    "def translate(word):\n",
    "    word=word.lower()\n",
    "    if word in data:\n",
    "        return data[word]\n",
    "    if (len(get_close_matches(word, data.keys())))>0:\n",
    "        response=input(\"you mean to say %s :\" %get_close_matches(word, data.keys()))\n",
    "        if response == \"y\":\n",
    "            return data[get_close_matches(word, data.keys())]\n",
    "        else:\n",
    "            print(\"data does not exist\")\n",
    "    else:\n",
    "        print(\"data does not exist\")"
   ]
  },
  {
   "cell_type": "code",
   "execution_count": null,
   "metadata": {},
   "outputs": [],
   "source": [
    "word_from_user=input(\"enter a word : \")\n",
    "result=translate(word_from_user)\n",
    "print(result)"
   ]
  }
 ],
 "metadata": {
  "kernelspec": {
   "display_name": "Python 3",
   "language": "python",
   "name": "python3"
  },
  "language_info": {
   "codemirror_mode": {
    "name": "ipython",
    "version": 3
   },
   "file_extension": ".py",
   "mimetype": "text/x-python",
   "name": "python",
   "nbconvert_exporter": "python",
   "pygments_lexer": "ipython3",
   "version": "3.13.1"
  }
 },
 "nbformat": 4,
 "nbformat_minor": 2
}
