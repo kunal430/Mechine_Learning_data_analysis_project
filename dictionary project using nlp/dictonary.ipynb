{
 "cells": [
  {
   "cell_type": "code",
   "execution_count": null,
   "metadata": {},
   "outputs": [],
   "source": [
    "#importing json to load a json file in a variable\n",
    "import json\n",
    "data = json.load(open('Dictionary_data.json'))"
   ]
  },
  {
   "cell_type": "code",
   "execution_count": null,
   "metadata": {},
   "outputs": [],
   "source": [
    "#importing a function to give close matches for a word \n",
    "from difflib import get_close_matches\n",
    "\n",
    "#creating a function that will take a word as parameter and give specific output\n",
    "def translate(word):\n",
    "    word=word.lower()\n",
    "    if word in data:\n",
    "        return data[word]\n",
    "    if (len(get_close_matches(word, data.keys())))>0:\n",
    "        response=input(\"you mean to say %s :\" %get_close_matches(word, data.keys()))\n",
    "        if response == \"y\":\n",
    "            return data[get_close_matches(word, data.keys())]\n",
    "        else:\n",
    "            print(\"data does not exist\")\n",
    "    else:\n",
    "        print(\"data does not exist\")"
   ]
  },
  {
   "cell_type": "code",
   "execution_count": null,
   "metadata": {},
   "outputs": [],
   "source": [
    "#this block of code takes a word from user and get desierd output with the help of translate() \n",
    "word_from_user=input(\"enter a word : \")\n",
    "result=translate(word_from_user)\n",
    "print(result)"
   ]
  }
 ],
 "metadata": {
  "kernelspec": {
   "display_name": "Python 3",
   "language": "python",
   "name": "python3"
  },
  "language_info": {
   "codemirror_mode": {
    "name": "ipython",
    "version": 3
   },
   "file_extension": ".py",
   "mimetype": "text/x-python",
   "name": "python",
   "nbconvert_exporter": "python",
   "pygments_lexer": "ipython3",
   "version": "3.13.1"
  }
 },
 "nbformat": 4,
 "nbformat_minor": 2
}
